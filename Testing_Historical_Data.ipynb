{
 "cells": [
  {
   "cell_type": "markdown",
   "id": "6dfa205f",
   "metadata": {},
   "source": [
    "# Testing"
   ]
  },
  {
   "cell_type": "code",
   "execution_count": 62,
   "id": "57410035",
   "metadata": {},
   "outputs": [],
   "source": [
    "import tensorflow as tf\n",
    "from tensorflow import keras\n",
    "from tensorflow.keras import layers\n",
    "import numpy as np\n",
    "import matplotlib.pyplot as plt\n",
    "import pandas as pd\n",
    "import yfinance as yf\n",
    "from scipy.stats import norm\n",
    "from sklearn.model_selection import train_test_split\n",
    "import matplotlib\n",
    "matplotlib.rcParams.update({'font.size': 16})"
   ]
  },
  {
   "cell_type": "markdown",
   "id": "afe48c70",
   "metadata": {},
   "source": [
    "Load the model"
   ]
  },
  {
   "cell_type": "code",
   "execution_count": 63,
   "id": "9212a697",
   "metadata": {},
   "outputs": [
    {
     "name": "stdout",
     "output_type": "stream",
     "text": [
      "WARNING:tensorflow:No training configuration found in the save file, so the model was *not* compiled. Compile it manually.\n"
     ]
    }
   ],
   "source": [
    "model = keras.models.load_model('model_strat_real.h5')"
   ]
  },
  {
   "cell_type": "markdown",
   "id": "9ce9c1bf",
   "metadata": {},
   "source": [
    "Load and preprocess the Data"
   ]
  },
  {
   "cell_type": "code",
   "execution_count": 64,
   "id": "6b00f213",
   "metadata": {
    "scrolled": true
   },
   "outputs": [
    {
     "name": "stdout",
     "output_type": "stream",
     "text": [
      "[*********************100%***********************]  1 of 1 completed\n",
      "[*********************100%***********************]  1 of 1 completed\n",
      "[*********************100%***********************]  1 of 1 completed\n",
      "[*********************100%***********************]  1 of 1 completed\n",
      "[*********************100%***********************]  1 of 1 completed\n"
     ]
    }
   ],
   "source": [
    "a1 = yf.download(\"AAPL\", start=\"2023-02-03\", end=\"2023-03-25\") \n",
    "a2 = yf.download(\"GOOG\", start=\"2023-02-03\", end=\"2023-03-25\") \n",
    "a3 = yf.download(\"META\", start=\"2023-02-03\", end=\"2023-03-25\") \n",
    "a4 = yf.download(\"MSFT\", start=\"2023-02-03\", end=\"2023-03-25\") \n",
    "a5  = yf.download(\"AMZN\", start=\"2023-02-03\", end=\"2023-03-25\")\n",
    "\n",
    "a1 = a1[\"Close\"]\n",
    "a2 = a2[\"Close\"]\n",
    "a3 = a3[\"Close\"]\n",
    "a4 = a4[\"Close\"]\n",
    "a5 = a5[\"Close\"]\n",
    "\n",
    "df = pd.concat([a1,a2,a3,a4,a5],axis = 1)\n",
    "df.to_csv(\"data/closing_prices.csv\")"
   ]
  },
  {
   "cell_type": "code",
   "execution_count": 65,
   "id": "b5b93323",
   "metadata": {},
   "outputs": [],
   "source": [
    "Asset_1  = pd.read_csv(\"data/Apple.csv\", header=None)\n",
    "Asset_2 = pd.read_csv(\"data/Google.csv\", header=None)\n",
    "Asset_3  = pd.read_csv(\"data/Facebook.csv\", header=None)\n",
    "Asset_4  = pd.read_csv(\"data/Microsoft.csv\", header=None)\n",
    "Asset_5  = pd.read_csv(\"data/Amazon.csv\", header=None)\n",
    "closing_prices  = pd.read_csv(\"data/closing_prices.csv\", header=None)"
   ]
  },
  {
   "cell_type": "code",
   "execution_count": 66,
   "id": "0260ca5a",
   "metadata": {},
   "outputs": [],
   "source": [
    "def preprocess_df(df,S_vals):\n",
    "    df = df.fillna(0)\n",
    "    dict_0 = {}\n",
    "    scaling_factor = np.array(pd.to_numeric(S_vals[1:34])) # Scale all values such that value of underlying asset = 1\n",
    "    dict_0[\"Strikes\"] = [float(df.iloc[1][3*i])/scaling_factor for i in range(10)]    \n",
    "    dict_0[\"Dates\"] = list(df.iloc[3:36,0])\n",
    "    dict_0[\"Bid\"] = [list(pd.to_numeric(df.iloc[3:36,2+3*i])/scaling_factor) for i  in range(10)]\n",
    "    dict_0[\"Ask\"] = [list(pd.to_numeric(df.iloc[3:36,1+3*i])/scaling_factor) for i  in range(10)]\n",
    "    dict_0[\"S\"] = np.array(pd.to_numeric(S_vals[1:34])/scaling_factor)\n",
    "    dict_0[\"Strikes_unscaled\"] = [float(df.iloc[1][3*i]) for i in range(10)]    \n",
    "    dict_0[\"Bid_unscaled\"] = [list(pd.to_numeric(df.iloc[3:36,2+3*i])) for i  in range(10)]\n",
    "    dict_0[\"Ask_unscaled\"] = [list(pd.to_numeric(df.iloc[3:36,1+3*i])) for i  in range(10)]\n",
    "    dict_0[\"S_unscaled\"] = np.array(pd.to_numeric(S_vals[1:34]))\n",
    "    return dict_0, scaling_factor\n",
    "\n",
    "\n",
    "\n",
    "def X_to_Input(X_1,X_2,X_3,X_4,X_5,scaled = True):\n",
    "    len_X = len(X_1[\"Dates\"])\n",
    "    if scaled:\n",
    "        K = tf.concat([np.zeros((len_X,5)),\n",
    "                       np.reshape([X_1['Strikes']],(len_X,10)),\n",
    "                      np.reshape([X_2['Strikes']],(len_X,10)),\n",
    "                      np.reshape([X_3['Strikes']],(len_X,10)),\n",
    "                      np.reshape([X_4['Strikes']],(len_X,10)),\n",
    "                      np.reshape([X_5['Strikes']],(len_X,10))],axis = 1)\n",
    "\n",
    "\n",
    "        pi_minus = tf.concat([np.reshape(X_1[\"S\"],(len_X,1)),\n",
    "                              np.reshape(X_2[\"S\"],(len_X,1)),\n",
    "                              np.reshape(X_3[\"S\"],(len_X,1)),\n",
    "                              np.reshape(X_4[\"S\"],(len_X,1)),\n",
    "                              np.reshape(X_5[\"S\"],(len_X,1)),\n",
    "                              np.array(X_1['Bid']).transpose(),\n",
    "                              np.array(X_2['Bid']).transpose(),\n",
    "                              np.array(X_3['Bid']).transpose(),\n",
    "                              np.array(X_4['Bid']).transpose(),\n",
    "                              np.array(X_5['Bid']).transpose()],axis = 1)\n",
    "\n",
    "        pi_plus = tf.concat([np.reshape(X_1[\"S\"],(len_X,1)),\n",
    "                              np.reshape(X_2[\"S\"],(len_X,1)),\n",
    "                              np.reshape(X_3[\"S\"],(len_X,1)),\n",
    "                              np.reshape(X_4[\"S\"],(len_X,1)),\n",
    "                              np.reshape(X_5[\"S\"],(len_X,1)),\n",
    "                              np.array(X_1['Ask']).transpose(),\n",
    "                              np.array(X_2['Ask']).transpose(),\n",
    "                              np.array(X_3['Ask']).transpose(),\n",
    "                              np.array(X_4['Ask']).transpose(),\n",
    "                              np.array(X_5['Ask']).transpose()],axis = 1)\n",
    "    else:\n",
    "        K = tf.concat([np.zeros((len_X,5)),\n",
    "                       np.reshape([X_1['Strikes_unscaled']]*len_X,(len_X,10)),\n",
    "                      np.reshape([X_2['Strikes_unscaled']]*len_X,(len_X,10)),\n",
    "                      np.reshape([X_3['Strikes_unscaled']]*len_X,(len_X,10)),\n",
    "                      np.reshape([X_4['Strikes_unscaled']]*len_X,(len_X,10)),\n",
    "                      np.reshape([X_5['Strikes_unscaled']]*len_X,(len_X,10))],axis = 1)\n",
    "\n",
    "\n",
    "        pi_minus = tf.concat([np.reshape(X_1[\"S_unscaled\"],(len_X,1)),\n",
    "                              np.reshape(X_2[\"S_unscaled\"],(len_X,1)),\n",
    "                              np.reshape(X_3[\"S_unscaled\"],(len_X,1)),\n",
    "                              np.reshape(X_4[\"S_unscaled\"],(len_X,1)),\n",
    "                              np.reshape(X_5[\"S_unscaled\"],(len_X,1)),\n",
    "                              np.array(X_1['Bid_unscaled']).transpose(),\n",
    "                              np.array(X_2['Bid_unscaled']).transpose(),\n",
    "                              np.array(X_3['Bid_unscaled']).transpose(),\n",
    "                              np.array(X_4['Bid_unscaled']).transpose(),\n",
    "                              np.array(X_5['Bid_unscaled']).transpose()],axis = 1)\n",
    "\n",
    "        pi_plus = tf.concat([np.reshape(X_1[\"S_unscaled\"],(len_X,1)),\n",
    "                              np.reshape(X_2[\"S_unscaled\"],(len_X,1)),\n",
    "                              np.reshape(X_3[\"S_unscaled\"],(len_X,1)),\n",
    "                              np.reshape(X_4[\"S_unscaled\"],(len_X,1)),\n",
    "                              np.reshape(X_5[\"S_unscaled\"],(len_X,1)),\n",
    "                              np.array(X_1['Ask_unscaled']).transpose(),\n",
    "                              np.array(X_2['Ask_unscaled']).transpose(),\n",
    "                              np.array(X_3['Ask_unscaled']).transpose(),\n",
    "                              np.array(X_4['Ask_unscaled']).transpose(),\n",
    "                              np.array(X_5['Ask_unscaled']).transpose()],axis = 1)        \n",
    "    \n",
    "    return [K,pi_minus,pi_plus]\n"
   ]
  },
  {
   "cell_type": "markdown",
   "id": "d803c38c",
   "metadata": {},
   "source": [
    "# Computation of the profit"
   ]
  },
  {
   "cell_type": "markdown",
   "id": "13952a06",
   "metadata": {},
   "source": [
    "# 1. With the scaled Assets"
   ]
  },
  {
   "cell_type": "code",
   "execution_count": 67,
   "id": "172f26b4",
   "metadata": {},
   "outputs": [],
   "source": [
    "Asset_1_dict, Asset_1_scaling_factor = preprocess_df(Asset_1,closing_prices[1])\n",
    "Asset_2_dict, Asset_2_scaling_factor = preprocess_df(Asset_2,closing_prices[2])\n",
    "Asset_3_dict, Asset_3_scaling_factor = preprocess_df(Asset_3,closing_prices[3])\n",
    "Asset_4_dict, Asset_4_scaling_factor = preprocess_df(Asset_4,closing_prices[4])\n",
    "Asset_5_dict, Asset_5_scaling_factor = preprocess_df(Asset_5,closing_prices[5])\n",
    "\n",
    "\n",
    "# Determine the Strategy\n",
    "X = X_to_Input(Asset_1_dict,Asset_2_dict,Asset_3_dict,Asset_4_dict,Asset_5_dict)\n",
    "X_unscaled = X_to_Input(Asset_1_dict,Asset_2_dict,Asset_3_dict,Asset_4_dict,Asset_5_dict,scaled = False)\n",
    "\n",
    "strat = model(X)\n",
    "\n",
    "# Compute S\n",
    "N_days = len(X[0])\n",
    "S_T = np.array(pd.to_numeric(closing_prices.iloc[-1][1:]))\n",
    "S_T_Scaled = np.repeat(S_T[:,np.newaxis],N_days,axis = 1) / np.array([Asset_1_scaling_factor,\n",
    "                         Asset_2_scaling_factor,\n",
    "                         Asset_3_scaling_factor,\n",
    "                         Asset_4_scaling_factor,\n",
    "                         Asset_5_scaling_factor])\n",
    "\n",
    "# Computed the prices of the strategies\n",
    "a = strat[0]\n",
    "sell = tf.reshape(tf.reduce_sum(tf.cast(X[1],tf.float32)*strat[1],1),(N_days,1))\n",
    "buy = tf.reshape(tf.reduce_sum(tf.cast(X[2],tf.float32)*strat[2],1),(N_days,1))\n",
    "Price = a + buy - sell\n",
    "\n",
    "#assets = np.array([S]*33)\n",
    "Calls_1 = np.maximum(S_T_Scaled[0]-np.array(Asset_1_dict[\"Strikes\"]),0)\n",
    "Calls_2 = np.maximum(S_T_Scaled[1]-np.array(Asset_2_dict[\"Strikes\"]),0)\n",
    "Calls_3 = np.maximum(S_T_Scaled[2]-np.array(Asset_3_dict[\"Strikes\"]),0)\n",
    "Calls_4 = np.maximum(S_T_Scaled[3]-np.array(Asset_4_dict[\"Strikes\"]),0)\n",
    "Calls_5 = np.maximum(S_T_Scaled[4]-np.array(Asset_5_dict[\"Strikes\"]),0)\n",
    "\n",
    "# Compute the Payoff\n",
    "\n",
    "Payoffs = tf.transpose(tf.concat([(S_T_Scaled),Calls_1,Calls_2,Calls_3,Calls_4,Calls_5],0))\n",
    "\n",
    "Payoff_T = a + tf.reshape(tf.reduce_sum((strat[2]-strat[1])*tf.cast(Payoffs,tf.float32),1),(N_days,1))\n",
    "\n",
    "profit = Payoff_T-Price      "
   ]
  },
  {
   "cell_type": "code",
   "execution_count": 68,
   "id": "a6dfa17a",
   "metadata": {},
   "outputs": [
    {
     "data": {
      "text/html": [
       "<div>\n",
       "<style scoped>\n",
       "    .dataframe tbody tr th:only-of-type {\n",
       "        vertical-align: middle;\n",
       "    }\n",
       "\n",
       "    .dataframe tbody tr th {\n",
       "        vertical-align: top;\n",
       "    }\n",
       "\n",
       "    .dataframe thead th {\n",
       "        text-align: right;\n",
       "    }\n",
       "</style>\n",
       "<table border=\"1\" class=\"dataframe\">\n",
       "  <thead>\n",
       "    <tr style=\"text-align: right;\">\n",
       "      <th></th>\n",
       "      <th>0</th>\n",
       "    </tr>\n",
       "  </thead>\n",
       "  <tbody>\n",
       "    <tr>\n",
       "      <th>count</th>\n",
       "      <td>33.000000</td>\n",
       "    </tr>\n",
       "    <tr>\n",
       "      <th>mean</th>\n",
       "      <td>0.063460</td>\n",
       "    </tr>\n",
       "    <tr>\n",
       "      <th>std</th>\n",
       "      <td>0.089347</td>\n",
       "    </tr>\n",
       "    <tr>\n",
       "      <th>min</th>\n",
       "      <td>-0.017063</td>\n",
       "    </tr>\n",
       "    <tr>\n",
       "      <th>25%</th>\n",
       "      <td>-0.007025</td>\n",
       "    </tr>\n",
       "    <tr>\n",
       "      <th>50%</th>\n",
       "      <td>0.021668</td>\n",
       "    </tr>\n",
       "    <tr>\n",
       "      <th>75%</th>\n",
       "      <td>0.093558</td>\n",
       "    </tr>\n",
       "    <tr>\n",
       "      <th>max</th>\n",
       "      <td>0.318201</td>\n",
       "    </tr>\n",
       "  </tbody>\n",
       "</table>\n",
       "</div>"
      ],
      "text/plain": [
       "               0\n",
       "count  33.000000\n",
       "mean    0.063460\n",
       "std     0.089347\n",
       "min    -0.017063\n",
       "25%    -0.007025\n",
       "50%     0.021668\n",
       "75%     0.093558\n",
       "max     0.318201"
      ]
     },
     "execution_count": 68,
     "metadata": {},
     "output_type": "execute_result"
    }
   ],
   "source": [
    "pd.DataFrame(profit.numpy()).describe()"
   ]
  },
  {
   "cell_type": "code",
   "execution_count": 69,
   "id": "1fc9f287",
   "metadata": {
    "scrolled": true
   },
   "outputs": [
    {
     "data": {
      "image/png": "[encoded data removed]",
      "text/plain": [
       "<Figure size 640x480 with 1 Axes>"
      ]
     },
     "metadata": {},
     "output_type": "display_data"
    }
   ],
   "source": [
    "plt.hist(np.reshape(profit,-1))\n",
    "plt.xlabel(\"Profit of the scaled assets\")\n",
    "plt.ylabel(\"Frequency\")\n",
    "plt.grid(True)\n",
    "plt.savefig(\"Histogram_real.pdf\")\n",
    "plt.show()\n",
    "\n"
   ]
  },
  {
   "cell_type": "markdown",
   "id": "a881e205",
   "metadata": {},
   "source": [
    "# 2.) With the unscaled Assets"
   ]
  },
  {
   "cell_type": "code",
   "execution_count": 70,
   "id": "9f39cd8e",
   "metadata": {},
   "outputs": [],
   "source": [
    "Asset_1_dict, Asset_1_scaling_factor = preprocess_df(Asset_1,closing_prices[1])\n",
    "Asset_2_dict, Asset_2_scaling_factor = preprocess_df(Asset_2,closing_prices[2])\n",
    "Asset_3_dict, Asset_3_scaling_factor = preprocess_df(Asset_3,closing_prices[3])\n",
    "Asset_4_dict, Asset_4_scaling_factor = preprocess_df(Asset_4,closing_prices[4])\n",
    "Asset_5_dict, Asset_5_scaling_factor = preprocess_df(Asset_5,closing_prices[5])\n",
    "\n",
    "\n",
    "# Determine the Strategy\n",
    "X = X_to_Input(Asset_1_dict,Asset_2_dict,Asset_3_dict,Asset_4_dict,Asset_5_dict)\n",
    "X_unscaled = X_to_Input(Asset_1_dict,Asset_2_dict,Asset_3_dict,Asset_4_dict,Asset_5_dict,scaled = False)\n",
    "\n",
    "strat = model(X)\n",
    "\n",
    "# Compute S\n",
    "N_days = len(X[0])\n",
    "S_T = np.array(pd.to_numeric(closing_prices.iloc[-1][1:]))\n",
    "S_T_Scaled = np.repeat(S_T[:,np.newaxis],N_days,axis = 1) / np.array([Asset_1_scaling_factor,\n",
    "                         Asset_2_scaling_factor,\n",
    "                         Asset_3_scaling_factor,\n",
    "                         Asset_4_scaling_factor,\n",
    "                         Asset_5_scaling_factor])\n",
    "\n",
    "# Computed the prices of the strategies\n",
    "a = strat[0]\n",
    "sell_unscaled = tf.reshape(tf.reduce_sum(tf.cast(X_unscaled[1],tf.float32)*strat[1],1),(N_days,1))\n",
    "buy_unscaled = tf.reshape(tf.reduce_sum(tf.cast(X_unscaled[2],tf.float32)*strat[2],1),(N_days,1))\n",
    "Price_unscaled = a + buy_unscaled - sell_unscaled\n",
    "\n",
    "\n",
    "# Compute the Payoff\n",
    "#assets = np.array([S]*33)\n",
    "Calls_1_unscaled = np.maximum(S_T[0]-np.array(Asset_1_dict[\"Strikes_unscaled\"]),0)\n",
    "Calls_2_unscaled = np.maximum(S_T[1]-np.array(Asset_2_dict[\"Strikes_unscaled\"]),0)\n",
    "Calls_3_unscaled = np.maximum(S_T[2]-np.array(Asset_3_dict[\"Strikes_unscaled\"]),0)\n",
    "Calls_4_unscaled = np.maximum(S_T[3]-np.array(Asset_4_dict[\"Strikes_unscaled\"]),0)\n",
    "Calls_5_unscaled = np.maximum(S_T[4]-np.array(Asset_5_dict[\"Strikes_unscaled\"]),0)\n",
    "Payoffs_unscaled = tf.concat([(S_T),Calls_1_unscaled,Calls_2_unscaled,\n",
    "                                           Calls_3_unscaled,Calls_4_unscaled,Calls_5_unscaled],0)\n",
    "Payoffs_unscaled = tf.repeat(tf.reshape(Payoffs_unscaled,(1,55)),N_days,axis = 0)\n",
    "\n",
    "Payoff_T_unscaled = a + tf.reshape(tf.reduce_sum((strat[2]-strat[1])*tf.cast(Payoffs_unscaled,tf.float32),1),(N_days,1))\n",
    "\n",
    "profit_unscaled  = Payoff_T_unscaled-Price_unscaled      "
   ]
  },
  {
   "cell_type": "code",
   "execution_count": 71,
   "id": "e9a9c0cb",
   "metadata": {},
   "outputs": [
    {
     "data": {
      "text/html": [
       "<div>\n",
       "<style scoped>\n",
       "    .dataframe tbody tr th:only-of-type {\n",
       "        vertical-align: middle;\n",
       "    }\n",
       "\n",
       "    .dataframe tbody tr th {\n",
       "        vertical-align: top;\n",
       "    }\n",
       "\n",
       "    .dataframe thead th {\n",
       "        text-align: right;\n",
       "    }\n",
       "</style>\n",
       "<table border=\"1\" class=\"dataframe\">\n",
       "  <thead>\n",
       "    <tr style=\"text-align: right;\">\n",
       "      <th></th>\n",
       "      <th>0</th>\n",
       "    </tr>\n",
       "  </thead>\n",
       "  <tbody>\n",
       "    <tr>\n",
       "      <th>count</th>\n",
       "      <td>33.000000</td>\n",
       "    </tr>\n",
       "    <tr>\n",
       "      <th>mean</th>\n",
       "      <td>5.855233</td>\n",
       "    </tr>\n",
       "    <tr>\n",
       "      <th>std</th>\n",
       "      <td>9.706270</td>\n",
       "    </tr>\n",
       "    <tr>\n",
       "      <th>min</th>\n",
       "      <td>-4.225227</td>\n",
       "    </tr>\n",
       "    <tr>\n",
       "      <th>25%</th>\n",
       "      <td>-1.475227</td>\n",
       "    </tr>\n",
       "    <tr>\n",
       "      <th>50%</th>\n",
       "      <td>1.535172</td>\n",
       "    </tr>\n",
       "    <tr>\n",
       "      <th>75%</th>\n",
       "      <td>13.032318</td>\n",
       "    </tr>\n",
       "    <tr>\n",
       "      <th>max</th>\n",
       "      <td>32.687988</td>\n",
       "    </tr>\n",
       "  </tbody>\n",
       "</table>\n",
       "</div>"
      ],
      "text/plain": [
       "               0\n",
       "count  33.000000\n",
       "mean    5.855233\n",
       "std     9.706270\n",
       "min    -4.225227\n",
       "25%    -1.475227\n",
       "50%     1.535172\n",
       "75%    13.032318\n",
       "max    32.687988"
      ]
     },
     "execution_count": 71,
     "metadata": {},
     "output_type": "execute_result"
    }
   ],
   "source": [
    "pd.DataFrame(profit_unscaled.numpy()).describe()"
   ]
  },
  {
   "cell_type": "code",
   "execution_count": 72,
   "id": "4778dd7f",
   "metadata": {},
   "outputs": [
    {
     "data": {
      "image/png": "[encoded data removed]",
      "text/plain": [
       "<Figure size 640x480 with 1 Axes>"
      ]
     },
     "metadata": {},
     "output_type": "display_data"
    }
   ],
   "source": [
    "plt.hist(np.reshape(profit_unscaled,-1))\n",
    "plt.xlabel(\"Profit of the unscaled assets\")\n",
    "plt.ylabel(\"Frequency\")\n",
    "plt.grid(True)\n",
    "plt.savefig(\"Histogram_real_unscaled.pdf\",bbox_inches='tight')\n",
    "plt.show()"
   ]
  }
 ],
 "metadata": {
  "kernelspec": {
   "display_name": "Python 3",
   "language": "python",
   "name": "python3"
  },
  "language_info": {
   "codemirror_mode": {
    "name": "ipython",
    "version": 3
   },
   "file_extension": ".py",
   "mimetype": "text/x-python",
   "name": "python",
   "nbconvert_exporter": "python",
   "pygments_lexer": "ipython3",
   "version": "3.8.8"
  }
 },
 "nbformat": 4,
 "nbformat_minor": 5
}
