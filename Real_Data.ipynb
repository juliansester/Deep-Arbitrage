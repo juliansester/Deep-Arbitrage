{
 "cells": [
  {
   "cell_type": "markdown",
   "id": "7339f5bf",
   "metadata": {
    "id": "7339f5bf"
   },
   "source": [
    "# Combined Supervised and Unsupervised Learning"
   ]
  },
  {
   "cell_type": "markdown",
   "id": "4c880757",
   "metadata": {
    "id": "4c880757"
   },
   "source": [
    "Import the necessary packages"
   ]
  },
  {
   "cell_type": "code",
   "execution_count": null,
   "id": "ab2dee3f",
   "metadata": {
    "id": "ab2dee3f"
   },
   "outputs": [],
   "source": [
    "import tensorflow as tf\n",
    "from tensorflow import keras\n",
    "from tensorflow.keras import layers\n",
    "import numpy as np\n",
    "import matplotlib.pyplot as plt\n",
    "import pandas as pd\n",
    "from scipy.stats import norm\n",
    "from sklearn.model_selection import train_test_split"
   ]
  },
  {
   "cell_type": "markdown",
   "id": "b4d1302c",
   "metadata": {
    "id": "b4d1302c"
   },
   "source": [
    "## 1.) Preprocessing"
   ]
  },
  {
   "cell_type": "code",
   "execution_count": null,
   "id": "EWBqRyHWaii8",
   "metadata": {
    "colab": {
     "base_uri": "https://localhost:8080/"
    },
    "id": "EWBqRyHWaii8",
    "outputId": "cfd024c2-ea72-4b37-d3a8-83c37eebe9a8"
   },
   "outputs": [
    {
     "name": "stdout",
     "output_type": "stream",
     "text": [
      "Mounted at /content/drive\n",
      "/content/drive/MyDrive\n"
     ]
    }
   ],
   "source": [
    "from google.colab import drive\n",
    "drive.mount('/content/drive')\n",
    "%cd drive/MyDrive"
   ]
  },
  {
   "cell_type": "code",
   "execution_count": null,
   "id": "02f44721",
   "metadata": {
    "id": "02f44721"
   },
   "outputs": [],
   "source": [
    "Prices_Train = pd.read_csv(\"csv/Prices_Train_real.csv\", header=None)\n",
    "Strategy_Train = pd.read_csv(\"csv/Strategy_Train_real.csv\", header=None)\n",
    "Strikes_Train = pd.read_csv(\"csv/Strikes_Train_real.csv\", header=None)"
   ]
  },
  {
   "cell_type": "code",
   "execution_count": null,
   "id": "aa67232a",
   "metadata": {
    "id": "aa67232a"
   },
   "outputs": [],
   "source": [
    "X = pd.concat([Prices_Train,Strikes_Train],axis = 1)\n",
    "Y = Strategy_Train"
   ]
  },
  {
   "cell_type": "code",
   "execution_count": null,
   "id": "c2307e94",
   "metadata": {
    "id": "c2307e94"
   },
   "outputs": [],
   "source": [
    "X_train, X_test, Y_train, Y_test = train_test_split(X,Y, test_size=0.1, random_state=42)\n",
    "X_train.reset_index(inplace=True, drop=True)"
   ]
  },
  {
   "cell_type": "code",
   "execution_count": null,
   "id": "5dacde1d",
   "metadata": {
    "id": "5dacde1d"
   },
   "outputs": [],
   "source": [
    "def XY_to_price_preprocessing(X,Y):\n",
    "    h_plus = np.maximum(Y,0)\n",
    "    h_minus = np.maximum(-Y,0)\n",
    "    price =np.sum(np.array(h_plus)*np.array(X.iloc[:,:56]),axis = 1)-np.sum(np.array(h_minus)*np.array(X.iloc[:,56:112]),axis = 1)\n",
    "    return price   \n",
    "\n",
    "# Compute the prices of the strategies\n",
    "Prices_train = XY_to_price_preprocessing(X_train,Y_train)\n",
    "Prices_train[Prices_train == 0] = 1 # TO avoid division by zero\n",
    "\n",
    "# Scale the prices such that either 0 or -1\n",
    "Y_train = Y_train.div(np.abs(Prices_train),axis = 0)"
   ]
  },
  {
   "cell_type": "code",
   "execution_count": null,
   "id": "46a73191",
   "metadata": {
    "id": "46a73191"
   },
   "outputs": [],
   "source": [
    "def XY_to_price(X,Y):\n",
    "    h_plus = tf.nn.relu(Y)\n",
    "    h_minus = tf.nn.relu(-Y)\n",
    "    summand_1 = tf.reduce_sum(h_plus*X.iloc[:,:56],axis = 1)\n",
    "    summand_2 =-tf.reduce_sum(h_minus*X.iloc[:,56:112],axis = 1)\n",
    "    return summand_1+summand_2"
   ]
  },
  {
   "cell_type": "code",
   "execution_count": null,
   "id": "e4a30276",
   "metadata": {
    "id": "e4a30276"
   },
   "outputs": [],
   "source": [
    "Y_prices_test = XY_to_price(X_test,Y_test)\n",
    "Y_prices_train = XY_to_price(X_train,Y_train)"
   ]
  },
  {
   "cell_type": "markdown",
   "id": "5d803900",
   "metadata": {
    "id": "5d803900"
   },
   "source": [
    "## 2 .) Define the Generators"
   ]
  },
  {
   "cell_type": "markdown",
   "id": "7b855098",
   "metadata": {
    "id": "7b855098"
   },
   "source": [
    "We define three functions: \n",
    "\n",
    "One to generate prices (We use the training set), \n",
    "\n",
    "one to generate possible outcomes of S \n",
    "\n",
    "and one function to model the payoffs of the considered instruments, given an outcome of S."
   ]
  },
  {
   "cell_type": "code",
   "execution_count": null,
   "id": "cb8816b2",
   "metadata": {
    "id": "cb8816b2"
   },
   "outputs": [],
   "source": [
    "def generate_prices(Batch_size):\n",
    "    X_sample = X_train.sample(Batch_size,replace = False)\n",
    "    Y_sample = tf.cast(tf.reshape(tf.gather(Y_prices_train,X_sample.index),(Batch_size,1)),tf.float32)\n",
    "    pi_plus= X_sample.iloc[:,1:56]\n",
    "    pi_minus  = X_sample.iloc[:,57:112]\n",
    "    K = tf.concat([np.zeros((Batch_size,5)),np.array(X_sample.iloc[:,112:])],axis = 1)\n",
    "    yield pi_minus, pi_plus,K, Y_sample\n",
    "\n",
    "def generate_sample_S(Batch_size,Batch_S):\n",
    "    S = tf.random.uniform([Batch_size,n_assets,Batch_S],0,2)\n",
    "    yield  S\n",
    "    \n",
    "def payoffs(S,K,Batch_size,Batch_S):    \n",
    "    assets = S\n",
    "    Calls1 = tf.nn.relu(tf.repeat(S[:,0,tf.newaxis],10,axis=1)-tf.repeat(K[:,5:15,tf.newaxis] ,Batch_S,axis = 2) )    \n",
    "    Calls2 = tf.nn.relu(tf.repeat(S[:,1,tf.newaxis],10,axis=1)-tf.repeat(K[:,15:25,tf.newaxis] ,Batch_S,axis = 2) )\n",
    "    Calls3 = tf.nn.relu(tf.repeat(S[:,2,tf.newaxis],10,axis=1)-tf.repeat(K[:,25:35,tf.newaxis] ,Batch_S,axis = 2) )\n",
    "    Calls4 = tf.nn.relu(tf.repeat(S[:,3,tf.newaxis],10,axis=1)-tf.repeat(K[:,35:45,tf.newaxis] ,Batch_S,axis = 2))\n",
    "    Calls5 = tf.nn.relu(tf.repeat(S[:,4,tf.newaxis],10,axis=1)-tf.repeat(K[:,45:55,tf.newaxis] ,Batch_S,axis = 2))\n",
    "    return tf.concat([assets,Calls1,Calls2,Calls3,Calls4,Calls5],1)"
   ]
  },
  {
   "cell_type": "markdown",
   "id": "fb593ebd",
   "metadata": {
    "id": "fb593ebd"
   },
   "source": [
    "## 3.) Define the training algorithm"
   ]
  },
  {
   "cell_type": "code",
   "execution_count": null,
   "id": "5320de81",
   "metadata": {
    "id": "5320de81"
   },
   "outputs": [],
   "source": [
    "class train_strategies:\n",
    "    def __init__(self,\n",
    "                 payoffs,\n",
    "                     nr_payoffs,\n",
    "                     gamma_start = 10,\n",
    "                     gamma_end = 100,\n",
    "                     depth = 5,\n",
    "                     H_max = 1,\n",
    "                     a_max = 1,\n",
    "                     nr_neurons = 128,\n",
    "                     Batch_size = 1024,\n",
    "                     Batch_S = 32,\n",
    "                     l_r = 0.001,\n",
    "                     max_iter = 1000):\n",
    "        # Initiliaze\n",
    "        self.nr_payoffs = nr_payoffs\n",
    "        self.gamma_start = gamma_start\n",
    "        self.gamma_end = gamma_end\n",
    "        self.depth = depth\n",
    "        self.H_max = H_max\n",
    "        self.a_max = a_max\n",
    "        self.nr_neurons = nr_neurons\n",
    "        self.Batch_size = Batch_size\n",
    "        self.Batch_S = Batch_S\n",
    "        self.Batch_size = Batch_size\n",
    "        self.l_r = l_r\n",
    "        self.max_iter = max_iter\n",
    "\n",
    "        # Create Optimizer and Model\n",
    "        self.optimizer = tf.keras.optimizers.Adam(learning_rate = l_r, beta_1=0.99, beta_2=0.995)\n",
    "        self.optimizer = tf.keras.optimizers.Adam(learning_rate = l_r)\n",
    "        self.model = self.build_model()\n",
    "        self.losses = []\n",
    "\n",
    "\n",
    "    # Create Tensors for the Input    \n",
    "    def build_model(self):\n",
    "        K = keras.Input(shape=(self.nr_payoffs-1,),name = \"K\")\n",
    "        pi_minus = keras.Input(shape=(self.nr_payoffs-1,),name = \"pi_minus\")\n",
    "        pi_plus = keras.Input(shape=(self.nr_payoffs-1,),name = \"pi_plus\")\n",
    "        combined = layers.concatenate([K, pi_minus, pi_plus])\n",
    "        lay = layers.Dense(self.nr_neurons,activation = \"tanh\", dtype='float32')(combined)\n",
    "        # Create deep layers\n",
    "        for i in range(self.depth):\n",
    "            lay = layers.Dense(self.nr_neurons,activation = \"tanh\")(lay) \n",
    "        # Output Layers\n",
    "        a_out = self.a_max*layers.Dense(1,name = \"a_out\",activation = \"tanh\")(lay)\n",
    "        h_minus_out = self.H_max*layers.Dense(self.nr_payoffs-1,name = \"h_minus_out\",activation = \"sigmoid\")(lay)\n",
    "        h_plus_out = self.H_max*layers.Dense(self.nr_payoffs-1,name = \"h_plus_out\",activation = \"sigmoid\")(lay)\n",
    "        model = keras.Model(inputs=[K,pi_minus,pi_plus],\n",
    "                             outputs = [a_out,h_minus_out,h_plus_out])\n",
    "        return model\n",
    "\n",
    "    # Loss function\n",
    "    def loss(self,model,K,pi_minus,pi_plus,S,epoch,Y):\n",
    "        a, h_minus, h_plus = model({\"K\":K,\"pi_minus\":pi_minus,\"pi_plus\":pi_plus})\n",
    "        f = a +tf.reshape(tf.reduce_sum(h_plus*pi_plus-h_minus*pi_minus,axis = 1),(self.Batch_size,1))\n",
    "        a_expanded =tf.repeat(a,Batch_S,axis = 1)\n",
    "        strat_expanded = payoffs(S,K,self.Batch_size,self.Batch_S)*tf.repeat((h_plus-h_minus)[:,:,tf.newaxis],self.Batch_S,axis = 2)\n",
    "        I = a_expanded + tf.reduce_sum(strat_expanded,axis = 1 )\n",
    "        loss = f+self.gamma(epoch)*tf.reshape(tf.reduce_mean(tf.nn.relu(-I)**2,axis =1),(self.Batch_size,1))\n",
    "        return tf.reduce_mean(loss) +(self.gamma(epoch))*tf.reduce_mean((tf.nn.relu(-(Y+0.5)*f)))\n",
    "\n",
    "\n",
    "    # Define Gradient    \n",
    "    def grad(self,model,K,pi_minus,pi_plus,S,epoch,Y):\n",
    "        with tf.GradientTape() as tape:\n",
    "            loss_value = self.loss(model,K,pi_minus,pi_plus,S,epoch,Y)\n",
    "        return loss_value, tape.gradient(loss_value,model.trainable_variables)\n",
    "\n",
    "    def gamma(self,t):\n",
    "        current_gamma = self.gamma_start*(self.max_iter-t)/self.max_iter+self.gamma_end*t/self.max_iter\n",
    "        return current_gamma\n",
    "\n",
    "\n",
    "\n",
    "\n",
    "    # Training Loop\n",
    "    def train(self):\n",
    "        for epoch in range(int(self.max_iter)):\n",
    "            pi_minus, pi_plus,K,Y  = next(generate_prices(self.Batch_size))\n",
    "            pi_minus = tf.cast(pi_minus, tf.float32)\n",
    "            pi_plus = tf.cast(pi_plus, tf.float32)\n",
    "            K = tf.cast(K, tf.float32)\n",
    "            S = next(generate_sample_S(self.Batch_size,self.Batch_S))\n",
    "            loss_value, grads = self.grad(self.model, K,pi_minus,pi_plus,S,epoch,Y)\n",
    "            self.optimizer.apply_gradients(zip(grads, self.model.trainable_variables))\n",
    "            self.losses.append(loss_value.numpy())\n",
    "            if epoch % 100 == 0 and epoch > 0:\n",
    "                print(\"Iteration:{}, Avg. Loss: {}\".format((epoch),np.mean(self.losses[-(round(epoch*0.05))])))     \n",
    "\n",
    "        print(\"Iteration result: {}\".format(np.mean(self.losses[-(round(self.max_iter*0.05))])))"
   ]
  },
  {
   "cell_type": "markdown",
   "id": "9cfa8781",
   "metadata": {
    "id": "9cfa8781"
   },
   "source": [
    "## 4.) Train the Network"
   ]
  },
  {
   "cell_type": "markdown",
   "id": "a9c11774",
   "metadata": {
    "id": "a9c11774"
   },
   "source": [
    "Set the parameters"
   ]
  },
  {
   "cell_type": "code",
   "execution_count": null,
   "id": "4b0acd37",
   "metadata": {
    "id": "4b0acd37"
   },
   "outputs": [],
   "source": [
    "n_assets = 5\n",
    "nr_payoffs = 56 # Cash + 5 Stocks + 5*10 Calls\n",
    "Batch_size = 4096\n",
    "Batch_S =512\n",
    "nr_neurons = 1024\n",
    "gamma_start = 1\n",
    "gamma_end = 10000\n",
    "depth = 5\n",
    "H_max = 1\n",
    "a_max = 1\n",
    "l_r = 0.0001\n",
    "max_iter = 20000"
   ]
  },
  {
   "cell_type": "markdown",
   "id": "199e3de2",
   "metadata": {
    "id": "199e3de2"
   },
   "source": [
    "Create an instance of the class"
   ]
  },
  {
   "cell_type": "code",
   "execution_count": null,
   "id": "4ebce357",
   "metadata": {
    "id": "4ebce357"
   },
   "outputs": [],
   "source": [
    "strat = train_strategies(payoffs = payoffs,\n",
    "                     nr_payoffs = nr_payoffs,\n",
    "                     gamma_start = gamma_start,\n",
    "                     gamma_end = gamma_end,\n",
    "                     depth = depth,\n",
    "                     H_max = H_max,\n",
    "                     a_max =a_max,\n",
    "                     nr_neurons = nr_neurons,\n",
    "                     Batch_size = Batch_size,\n",
    "                    Batch_S = Batch_S,\n",
    "                     l_r = l_r,\n",
    "                     max_iter = max_iter)"
   ]
  },
  {
   "cell_type": "markdown",
   "id": "a6f7f498",
   "metadata": {
    "id": "a6f7f498"
   },
   "source": [
    "Train the model"
   ]
  },
  {
   "cell_type": "code",
   "execution_count": null,
   "id": "a49eabc0",
   "metadata": {
    "colab": {
     "base_uri": "https://localhost:8080/"
    },
    "id": "a49eabc0",
    "outputId": "eed46dcb-d66e-4f0c-b730-da08cd8d8caf",
    "scrolled": true
   },
   "outputs": [
    {
     "name": "stderr",
     "output_type": "stream",
     "text": [
      "WARNING:tensorflow:5 out of the last 5 calls to <function _BaseOptimizer._update_step_xla at 0x7fefe5abfac0> triggered tf.function retracing. Tracing is expensive and the excessive number of tracings could be due to (1) creating @tf.function repeatedly in a loop, (2) passing tensors with different shapes, (3) passing Python objects instead of tensors. For (1), please define your @tf.function outside of the loop. For (2), @tf.function has reduce_retracing=True option that can avoid unnecessary retracing. For (3), please refer to https://www.tensorflow.org/guide/function#controlling_retracing and https://www.tensorflow.org/api_docs/python/tf/function for  more details.\n",
      "WARNING:tensorflow:6 out of the last 6 calls to <function _BaseOptimizer._update_step_xla at 0x7fefe5abfac0> triggered tf.function retracing. Tracing is expensive and the excessive number of tracings could be due to (1) creating @tf.function repeatedly in a loop, (2) passing tensors with different shapes, (3) passing Python objects instead of tensors. For (1), please define your @tf.function outside of the loop. For (2), @tf.function has reduce_retracing=True option that can avoid unnecessary retracing. For (3), please refer to https://www.tensorflow.org/guide/function#controlling_retracing and https://www.tensorflow.org/api_docs/python/tf/function for  more details.\n"
     ]
    },
    {
     "name": "stdout",
     "output_type": "stream",
     "text": [
      "Iteration:100, Avg. Loss: 1.8980158567428589\n",
      "Iteration:200, Avg. Loss: 3.700742721557617\n",
      "Iteration:300, Avg. Loss: 3.012643337249756\n",
      "Iteration:400, Avg. Loss: 3.8950185775756836\n",
      "Iteration:500, Avg. Loss: 5.372683048248291\n",
      "Iteration:600, Avg. Loss: 7.451927185058594\n",
      "Iteration:700, Avg. Loss: 5.3165130615234375\n",
      "Iteration:800, Avg. Loss: 5.717763900756836\n",
      "Iteration:900, Avg. Loss: 5.776325702667236\n",
      "Iteration:1000, Avg. Loss: 7.239850044250488\n",
      "Iteration:1100, Avg. Loss: 9.16309928894043\n",
      "Iteration:1200, Avg. Loss: 7.266343593597412\n",
      "Iteration:1300, Avg. Loss: 6.4191131591796875\n",
      "Iteration:1400, Avg. Loss: 5.113401889801025\n",
      "Iteration:1500, Avg. Loss: 8.398038864135742\n",
      "Iteration:1600, Avg. Loss: 8.206496238708496\n",
      "Iteration:1700, Avg. Loss: 4.938696384429932\n",
      "Iteration:1800, Avg. Loss: 3.6944944858551025\n",
      "Iteration:1900, Avg. Loss: 6.279853820800781\n",
      "Iteration:2000, Avg. Loss: 5.402275085449219\n",
      "Iteration:2100, Avg. Loss: 2.7730863094329834\n",
      "Iteration:2200, Avg. Loss: 4.783151149749756\n",
      "Iteration:2300, Avg. Loss: 4.945052146911621\n",
      "Iteration:2400, Avg. Loss: 2.496278762817383\n",
      "Iteration:2500, Avg. Loss: 2.307507276535034\n",
      "Iteration:2600, Avg. Loss: 6.427285671234131\n",
      "Iteration:2700, Avg. Loss: 2.0004634857177734\n",
      "Iteration:2800, Avg. Loss: 2.455915689468384\n",
      "Iteration:2900, Avg. Loss: 1.5972874164581299\n",
      "Iteration:3000, Avg. Loss: 1.658616542816162\n",
      "Iteration:3100, Avg. Loss: 4.913801193237305\n",
      "Iteration:3200, Avg. Loss: 3.096147060394287\n",
      "Iteration:3300, Avg. Loss: 3.428057909011841\n",
      "Iteration:3400, Avg. Loss: 2.060966730117798\n",
      "Iteration:3500, Avg. Loss: 2.3196280002593994\n",
      "Iteration:3600, Avg. Loss: 6.397644519805908\n",
      "Iteration:3700, Avg. Loss: 1.329262614250183\n",
      "Iteration:3800, Avg. Loss: 2.295771837234497\n",
      "Iteration:3900, Avg. Loss: 3.268071174621582\n",
      "Iteration:4000, Avg. Loss: 2.5858023166656494\n",
      "Iteration:4100, Avg. Loss: 2.2322113513946533\n",
      "Iteration:4200, Avg. Loss: 1.6710671186447144\n",
      "Iteration:4300, Avg. Loss: 1.554226040840149\n",
      "Iteration:4400, Avg. Loss: 3.6377687454223633\n",
      "Iteration:4500, Avg. Loss: 4.126436233520508\n",
      "Iteration:4600, Avg. Loss: 1.1070725917816162\n",
      "Iteration:4700, Avg. Loss: 2.4398460388183594\n",
      "Iteration:4800, Avg. Loss: 1.245845079421997\n",
      "Iteration:4900, Avg. Loss: 5.362237453460693\n",
      "Iteration:5000, Avg. Loss: 1.9439482688903809\n",
      "Iteration:5100, Avg. Loss: 1.0426303148269653\n",
      "Iteration:5200, Avg. Loss: 2.1370065212249756\n",
      "Iteration:5300, Avg. Loss: 2.9917221069335938\n",
      "Iteration:5400, Avg. Loss: 0.809729814529419\n",
      "Iteration:5500, Avg. Loss: 3.8932223320007324\n",
      "Iteration:5600, Avg. Loss: 1.6018401384353638\n",
      "Iteration:5700, Avg. Loss: 0.8527354598045349\n",
      "Iteration:5800, Avg. Loss: 3.604590892791748\n",
      "Iteration:5900, Avg. Loss: 1.6034884452819824\n",
      "Iteration:6000, Avg. Loss: 0.5899760723114014\n",
      "Iteration:6100, Avg. Loss: 1.3493731021881104\n",
      "Iteration:6200, Avg. Loss: 0.5781174898147583\n",
      "Iteration:6300, Avg. Loss: 1.4353550672531128\n",
      "Iteration:6400, Avg. Loss: 0.5803347229957581\n",
      "Iteration:6500, Avg. Loss: 0.5546810030937195\n",
      "Iteration:6600, Avg. Loss: 1.4239095449447632\n",
      "Iteration:6700, Avg. Loss: 0.40784433484077454\n",
      "Iteration:6800, Avg. Loss: 1.966101884841919\n",
      "Iteration:6900, Avg. Loss: 1.1821821928024292\n",
      "Iteration:7000, Avg. Loss: 1.007867455482483\n",
      "Iteration:7100, Avg. Loss: 1.528765082359314\n",
      "Iteration:7200, Avg. Loss: 0.6750279664993286\n",
      "Iteration:7300, Avg. Loss: 1.6820355653762817\n",
      "Iteration:7400, Avg. Loss: 1.5815114974975586\n",
      "Iteration:7500, Avg. Loss: 0.4829270839691162\n",
      "Iteration:7600, Avg. Loss: 0.8798037171363831\n",
      "Iteration:7700, Avg. Loss: 0.5499423742294312\n",
      "Iteration:7800, Avg. Loss: 1.302294373512268\n",
      "Iteration:7900, Avg. Loss: 0.9371004104614258\n",
      "Iteration:8000, Avg. Loss: 0.887138307094574\n",
      "Iteration:8100, Avg. Loss: 0.8977158665657043\n",
      "Iteration:8200, Avg. Loss: 0.5969816446304321\n",
      "Iteration:8300, Avg. Loss: 0.8046159744262695\n",
      "Iteration:8400, Avg. Loss: 0.4833712577819824\n",
      "Iteration:8500, Avg. Loss: 0.7376922369003296\n",
      "Iteration:8600, Avg. Loss: 0.5005508661270142\n",
      "Iteration:8700, Avg. Loss: 0.8054713010787964\n",
      "Iteration:8800, Avg. Loss: 1.6479952335357666\n",
      "Iteration:8900, Avg. Loss: 0.7085672616958618\n",
      "Iteration:9000, Avg. Loss: 1.0186569690704346\n",
      "Iteration:9100, Avg. Loss: 0.4198024868965149\n",
      "Iteration:9200, Avg. Loss: 0.6192913055419922\n",
      "Iteration:9300, Avg. Loss: 1.1311696767807007\n",
      "Iteration:9400, Avg. Loss: 0.9314754009246826\n",
      "Iteration:9500, Avg. Loss: 0.5846874117851257\n",
      "Iteration:9600, Avg. Loss: 1.093723177909851\n",
      "Iteration:9700, Avg. Loss: 0.4591004252433777\n",
      "Iteration:9800, Avg. Loss: 0.36839228868484497\n",
      "Iteration:9900, Avg. Loss: 0.655239999294281\n",
      "Iteration:10000, Avg. Loss: 0.9932202100753784\n",
      "Iteration:10100, Avg. Loss: 0.9732793569564819\n",
      "Iteration:10200, Avg. Loss: 0.472836971282959\n",
      "Iteration:10300, Avg. Loss: 0.9681195020675659\n",
      "Iteration:10400, Avg. Loss: 1.4318625926971436\n",
      "Iteration:10500, Avg. Loss: 0.5346302390098572\n",
      "Iteration:10600, Avg. Loss: 0.3811955153942108\n",
      "Iteration:10700, Avg. Loss: 0.8495734930038452\n",
      "Iteration:10800, Avg. Loss: 0.41140392422676086\n",
      "Iteration:10900, Avg. Loss: 0.5678502917289734\n",
      "Iteration:11000, Avg. Loss: 1.0710914134979248\n",
      "Iteration:11100, Avg. Loss: 0.37595465779304504\n",
      "Iteration:11200, Avg. Loss: 0.35584184527397156\n",
      "Iteration:11300, Avg. Loss: 0.49701815843582153\n",
      "Iteration:11400, Avg. Loss: 1.1314109563827515\n",
      "Iteration:11500, Avg. Loss: 2.0881500244140625\n",
      "Iteration:11600, Avg. Loss: 0.4764987826347351\n",
      "Iteration:11700, Avg. Loss: 0.29510775208473206\n",
      "Iteration:11800, Avg. Loss: 4.067975997924805\n",
      "Iteration:11900, Avg. Loss: 0.718437671661377\n",
      "Iteration:12000, Avg. Loss: 0.6097581386566162\n",
      "Iteration:12100, Avg. Loss: 0.3384498953819275\n",
      "Iteration:12200, Avg. Loss: 1.5280985832214355\n",
      "Iteration:12300, Avg. Loss: 0.5345549583435059\n",
      "Iteration:12400, Avg. Loss: 0.3639574646949768\n",
      "Iteration:12500, Avg. Loss: 1.1588728427886963\n",
      "Iteration:12600, Avg. Loss: 1.0543373823165894\n",
      "Iteration:12700, Avg. Loss: 0.556565523147583\n",
      "Iteration:12800, Avg. Loss: 0.7584437131881714\n",
      "Iteration:12900, Avg. Loss: 0.4393712878227234\n",
      "Iteration:13000, Avg. Loss: 0.3698911964893341\n",
      "Iteration:13100, Avg. Loss: 0.7367000579833984\n",
      "Iteration:13200, Avg. Loss: 0.4663446843624115\n",
      "Iteration:13300, Avg. Loss: 0.6677803993225098\n",
      "Iteration:13400, Avg. Loss: 2.322533130645752\n",
      "Iteration:13500, Avg. Loss: 0.7465270161628723\n",
      "Iteration:13600, Avg. Loss: 0.6849370002746582\n",
      "Iteration:13700, Avg. Loss: 1.0938462018966675\n",
      "Iteration:13800, Avg. Loss: 0.3758223056793213\n",
      "Iteration:13900, Avg. Loss: 0.6006521582603455\n",
      "Iteration:14000, Avg. Loss: 0.33435696363449097\n",
      "Iteration:14100, Avg. Loss: 0.2394920140504837\n",
      "Iteration:14200, Avg. Loss: 0.24195680022239685\n",
      "Iteration:14300, Avg. Loss: 0.2732675075531006\n",
      "Iteration:14400, Avg. Loss: 0.25947362184524536\n",
      "Iteration:14500, Avg. Loss: 0.2724847197532654\n",
      "Iteration:14600, Avg. Loss: 0.37280815839767456\n",
      "Iteration:14700, Avg. Loss: 0.6634238958358765\n",
      "Iteration:14800, Avg. Loss: 2.134721517562866\n",
      "Iteration:14900, Avg. Loss: 0.6746740341186523\n",
      "Iteration:15000, Avg. Loss: 0.2378591001033783\n",
      "Iteration:15100, Avg. Loss: 0.6156172752380371\n",
      "Iteration:15200, Avg. Loss: 0.3582428991794586\n",
      "Iteration:15300, Avg. Loss: 0.42016521096229553\n",
      "Iteration:15400, Avg. Loss: 0.32273757457733154\n",
      "Iteration:15500, Avg. Loss: 0.29128631949424744\n",
      "Iteration:15600, Avg. Loss: 1.6561872959136963\n",
      "Iteration:15700, Avg. Loss: 0.45199039578437805\n",
      "Iteration:15800, Avg. Loss: 0.7641221284866333\n",
      "Iteration:15900, Avg. Loss: 0.47599518299102783\n",
      "Iteration:16000, Avg. Loss: 0.6984862089157104\n",
      "Iteration:16100, Avg. Loss: 0.6937530636787415\n",
      "Iteration:16200, Avg. Loss: 0.23028211295604706\n",
      "Iteration:16300, Avg. Loss: 0.5358699560165405\n",
      "Iteration:16400, Avg. Loss: 27.913135528564453\n",
      "Iteration:16500, Avg. Loss: 3.523336410522461\n",
      "Iteration:16600, Avg. Loss: 1.3159427642822266\n",
      "Iteration:16700, Avg. Loss: 0.6300052404403687\n",
      "Iteration:16800, Avg. Loss: 0.9954318404197693\n",
      "Iteration:16900, Avg. Loss: 0.34915754199028015\n",
      "Iteration:17000, Avg. Loss: 0.7742654085159302\n",
      "Iteration:17100, Avg. Loss: 0.45806729793548584\n",
      "Iteration:17200, Avg. Loss: 0.4107055962085724\n",
      "Iteration:17300, Avg. Loss: 0.29435670375823975\n",
      "Iteration:17400, Avg. Loss: 0.3591079115867615\n",
      "Iteration:17500, Avg. Loss: 0.2994352877140045\n",
      "Iteration:17600, Avg. Loss: 0.40468505024909973\n",
      "Iteration:17700, Avg. Loss: 1.1199376583099365\n",
      "Iteration:17800, Avg. Loss: 0.9515185952186584\n",
      "Iteration:17900, Avg. Loss: 0.23468902707099915\n",
      "Iteration:18000, Avg. Loss: 0.5091347694396973\n",
      "Iteration:18100, Avg. Loss: 0.30697348713874817\n",
      "Iteration:18200, Avg. Loss: 0.3010613024234772\n",
      "Iteration:18300, Avg. Loss: 1.1319074630737305\n",
      "Iteration:18400, Avg. Loss: 1.358864188194275\n",
      "Iteration:18500, Avg. Loss: 0.8770487308502197\n",
      "Iteration:18600, Avg. Loss: 0.3018684983253479\n",
      "Iteration:18700, Avg. Loss: 0.3606555461883545\n",
      "Iteration:18800, Avg. Loss: 0.25471335649490356\n",
      "Iteration:18900, Avg. Loss: 0.2879527509212494\n",
      "Iteration:19000, Avg. Loss: 0.22510291635990143\n",
      "Iteration:19100, Avg. Loss: 1.0475351810455322\n",
      "Iteration:19200, Avg. Loss: 0.4173732399940491\n",
      "Iteration:19300, Avg. Loss: 1.4584344625473022\n",
      "Iteration:19400, Avg. Loss: 0.4790026545524597\n",
      "Iteration:19500, Avg. Loss: 1.1545673608779907\n",
      "Iteration:19600, Avg. Loss: 2.4560136795043945\n",
      "Iteration:19700, Avg. Loss: 0.442180871963501\n",
      "Iteration:19800, Avg. Loss: 0.6437659859657288\n",
      "Iteration:19900, Avg. Loss: 0.3105355501174927\n",
      "Iteration result: 0.21867184340953827\n"
     ]
    }
   ],
   "source": [
    "strat.train()"
   ]
  },
  {
   "cell_type": "markdown",
   "id": "8644d30a",
   "metadata": {
    "id": "8644d30a"
   },
   "source": [
    "## 5.) Evaluate"
   ]
  },
  {
   "cell_type": "markdown",
   "id": "6dfce197",
   "metadata": {
    "id": "6dfce197"
   },
   "source": [
    "### 5.1) Evaluate On Training Set"
   ]
  },
  {
   "cell_type": "code",
   "execution_count": null,
   "id": "53e0e18b",
   "metadata": {
    "id": "53e0e18b"
   },
   "outputs": [],
   "source": [
    "n_train = len(X_train)"
   ]
  },
  {
   "cell_type": "code",
   "execution_count": null,
   "id": "d50cad0f",
   "metadata": {
    "id": "d50cad0f"
   },
   "outputs": [],
   "source": [
    "K = tf.concat([np.zeros((n_train,5)),np.array(X_train.iloc[:,112:])],axis = 1)\n",
    "pi_minus = tf.constant(X_train.iloc[:,57:112])\n",
    "pi_plus  = tf.constant(X_train.iloc[:,1:56])\n",
    "Y_predictions = strat.model([K,pi_minus,pi_plus])"
   ]
  },
  {
   "cell_type": "code",
   "execution_count": null,
   "id": "f592ee4d",
   "metadata": {
    "id": "f592ee4d"
   },
   "outputs": [],
   "source": [
    "def XY_to_price(X,Y):\n",
    "    h_plus = tf.nn.relu(Y)\n",
    "    h_minus = tf.nn.relu(-Y)\n",
    "    summand_1 = tf.reduce_sum(h_plus*X.iloc[:,:56],axis = 1)\n",
    "    summand_2 =-tf.reduce_sum(h_minus*X.iloc[:,56:112],axis = 1)\n",
    "    return tf.reshape(summand_1+summand_2,(len(X),1))"
   ]
  },
  {
   "cell_type": "code",
   "execution_count": null,
   "id": "ebc654f2",
   "metadata": {
    "id": "ebc654f2"
   },
   "outputs": [],
   "source": [
    "def XNN_to_price(X,NN):    \n",
    "    a = tf.reshape(NN[0],(len(X),1))\n",
    "    h_plus = NN[2]\n",
    "    h_minus = NN[1]\n",
    "    pi_plus = tf.cast(tf.reshape(X.iloc[:,1:56],(len(X),55)),tf.float32)\n",
    "    pi_minus = tf.cast(tf.reshape(X.iloc[:,57:112],(len(X),55)),tf.float32)\n",
    "    return a +tf.reshape(tf.reduce_sum(h_plus*pi_plus-h_minus*pi_minus,axis = 1),(len(X),1))"
   ]
  },
  {
   "cell_type": "code",
   "execution_count": null,
   "id": "5b0e55e6",
   "metadata": {
    "id": "5b0e55e6"
   },
   "outputs": [],
   "source": [
    "Prices_train = XY_to_price(X_train,Y_train)"
   ]
  },
  {
   "cell_type": "code",
   "execution_count": null,
   "id": "2081c009",
   "metadata": {
    "id": "2081c009"
   },
   "outputs": [],
   "source": [
    "Prices_predicted = XNN_to_price(X_train,Y_predictions)"
   ]
  },
  {
   "cell_type": "code",
   "execution_count": null,
   "id": "efd31d4e",
   "metadata": {
    "colab": {
     "base_uri": "https://localhost:8080/"
    },
    "id": "efd31d4e",
    "outputId": "018269b3-17bb-44e1-ce29-86b061c806d9"
   },
   "outputs": [
    {
     "data": {
      "text/plain": [
       "44985.098"
      ]
     },
     "execution_count": 20,
     "metadata": {},
     "output_type": "execute_result"
    }
   ],
   "source": [
    "np.sum(Y_predictions[0])"
   ]
  },
  {
   "cell_type": "code",
   "execution_count": null,
   "id": "2eb28311",
   "metadata": {
    "colab": {
     "base_uri": "https://localhost:8080/"
    },
    "id": "2eb28311",
    "outputId": "2abc093c-e91b-4a4c-a29b-f3194266ad76",
    "scrolled": false
   },
   "outputs": [
    {
     "data": {
      "text/plain": [
       "<tf.Tensor: shape=(45000, 1), dtype=float64, numpy=\n",
       "array([[-1.],\n",
       "       [ 0.],\n",
       "       [-1.],\n",
       "       ...,\n",
       "       [-1.],\n",
       "       [-1.],\n",
       "       [-1.]])>"
      ]
     },
     "execution_count": 21,
     "metadata": {},
     "output_type": "execute_result"
    }
   ],
   "source": [
    "Prices_train"
   ]
  },
  {
   "cell_type": "code",
   "execution_count": null,
   "id": "fa622a8c",
   "metadata": {
    "colab": {
     "base_uri": "https://localhost:8080/"
    },
    "id": "fa622a8c",
    "outputId": "46847351-f2cc-4fc7-8f6d-513df1322c23"
   },
   "outputs": [
    {
     "data": {
      "text/plain": [
       "<tf.Tensor: shape=(45000, 1), dtype=float32, numpy=\n",
       "array([[-0.00849223],\n",
       "       [ 0.0001148 ],\n",
       "       [-0.00397772],\n",
       "       ...,\n",
       "       [-0.02226543],\n",
       "       [-0.01642483],\n",
       "       [-0.01660979]], dtype=float32)>"
      ]
     },
     "execution_count": 22,
     "metadata": {},
     "output_type": "execute_result"
    }
   ],
   "source": [
    "Prices_predicted"
   ]
  },
  {
   "cell_type": "code",
   "execution_count": null,
   "id": "82b10e7f",
   "metadata": {
    "colab": {
     "base_uri": "https://localhost:8080/"
    },
    "id": "82b10e7f",
    "outputId": "64239cb0-5358-46bb-db1a-cbcc066f7e0e"
   },
   "outputs": [
    {
     "data": {
      "text/plain": [
       "34146"
      ]
     },
     "execution_count": 23,
     "metadata": {},
     "output_type": "execute_result"
    }
   ],
   "source": [
    "np.sum(Prices_train<0)"
   ]
  },
  {
   "cell_type": "code",
   "execution_count": null,
   "id": "e3ab4683",
   "metadata": {
    "colab": {
     "base_uri": "https://localhost:8080/"
    },
    "id": "e3ab4683",
    "outputId": "7be5ceaa-b4d6-460f-b7dd-a63b1717a07e"
   },
   "outputs": [
    {
     "data": {
      "text/plain": [
       "44050"
      ]
     },
     "execution_count": 24,
     "metadata": {},
     "output_type": "execute_result"
    }
   ],
   "source": [
    "np.sum(np.abs(Prices_predicted)<0.1)"
   ]
  },
  {
   "cell_type": "code",
   "execution_count": null,
   "id": "1803c60a",
   "metadata": {
    "colab": {
     "base_uri": "https://localhost:8080/"
    },
    "id": "1803c60a",
    "outputId": "d07b477a-1e15-4581-a3f8-09b006595efa"
   },
   "outputs": [
    {
     "data": {
      "text/plain": [
       "38704"
      ]
     },
     "execution_count": 25,
     "metadata": {},
     "output_type": "execute_result"
    }
   ],
   "source": [
    "np.sum(Prices_predicted<0)"
   ]
  },
  {
   "cell_type": "code",
   "execution_count": null,
   "id": "b8b58188",
   "metadata": {
    "colab": {
     "base_uri": "https://localhost:8080/"
    },
    "id": "b8b58188",
    "outputId": "1b5fa968-6c61-40f3-bbe5-50441df76749"
   },
   "outputs": [
    {
     "name": "stdout",
     "output_type": "stream",
     "text": [
      "Correct Predictions: 39570 out of 45000\n",
      "87.933 %\n"
     ]
    }
   ],
   "source": [
    "same_pred = np.sum((Prices_predicted<0).numpy()*(Prices_train<0).numpy())+np.sum((Prices_predicted>=0).numpy()*(Prices_train>=0).numpy())\n",
    "print(\"Correct Predictions: {} out of {}\".format(same_pred,n_train))\n",
    "print(\"{} %\".format(round(100*same_pred/n_train,3)))"
   ]
  },
  {
   "cell_type": "markdown",
   "id": "53c59baf",
   "metadata": {
    "id": "53c59baf"
   },
   "source": [
    "### 5.2) Evaluate On Testing Set"
   ]
  },
  {
   "cell_type": "code",
   "execution_count": null,
   "id": "855462b3",
   "metadata": {
    "id": "855462b3"
   },
   "outputs": [],
   "source": [
    "n_test = len(X_test)\n",
    "\n",
    "K = tf.concat([np.zeros((n_test,5)),np.array(X_test.iloc[:,112:])],axis = 1)\n",
    "pi_minus = tf.constant(X_test.iloc[:,57:112])\n",
    "pi_plus  = tf.constant(X_test.iloc[:,1:56])\n",
    "Y_predictions = strat.model([K,pi_minus,pi_plus])\n",
    "\n",
    "Prices_test= XY_to_price(X_test,Y_test)\n",
    "Prices_predicted = XNN_to_price(X_test,Y_predictions)"
   ]
  },
  {
   "cell_type": "code",
   "execution_count": null,
   "id": "81f40b05",
   "metadata": {
    "colab": {
     "base_uri": "https://localhost:8080/"
    },
    "id": "81f40b05",
    "outputId": "bee906e8-0868-4181-cffa-1587a1244d60"
   },
   "outputs": [
    {
     "data": {
      "text/plain": [
       "<tf.Tensor: shape=(5000, 1), dtype=float32, numpy=\n",
       "array([[-0.01307321],\n",
       "       [-0.00376076],\n",
       "       [ 0.00330669],\n",
       "       ...,\n",
       "       [-0.00912338],\n",
       "       [-0.00363195],\n",
       "       [ 0.00025398]], dtype=float32)>"
      ]
     },
     "execution_count": 28,
     "metadata": {},
     "output_type": "execute_result"
    }
   ],
   "source": [
    "Prices_predicted"
   ]
  },
  {
   "cell_type": "code",
   "execution_count": null,
   "id": "9310d88a",
   "metadata": {
    "colab": {
     "base_uri": "https://localhost:8080/"
    },
    "id": "9310d88a",
    "outputId": "0165bdd2-0e58-4ce2-cb43-051494b4a842"
   },
   "outputs": [
    {
     "data": {
      "text/plain": [
       "<tf.Tensor: shape=(5000, 1), dtype=float64, numpy=\n",
       "array([[-5.95602726],\n",
       "       [-3.5011628 ],\n",
       "       [ 0.        ],\n",
       "       ...,\n",
       "       [-4.55171885],\n",
       "       [-7.94379423],\n",
       "       [ 0.        ]])>"
      ]
     },
     "execution_count": 29,
     "metadata": {},
     "output_type": "execute_result"
    }
   ],
   "source": [
    "Prices_test"
   ]
  },
  {
   "cell_type": "code",
   "execution_count": null,
   "id": "ad0fa2f9",
   "metadata": {
    "colab": {
     "base_uri": "https://localhost:8080/"
    },
    "id": "ad0fa2f9",
    "outputId": "f06321ca-bf6f-4571-d29b-21da9d6c54c0"
   },
   "outputs": [
    {
     "data": {
      "text/plain": [
       "3787"
      ]
     },
     "execution_count": 30,
     "metadata": {},
     "output_type": "execute_result"
    }
   ],
   "source": [
    "np.sum(Prices_test<0)"
   ]
  },
  {
   "cell_type": "code",
   "execution_count": null,
   "id": "0b7c7242",
   "metadata": {
    "colab": {
     "base_uri": "https://localhost:8080/"
    },
    "id": "0b7c7242",
    "outputId": "885a6c3f-3ab4-4234-9931-05179a93e731"
   },
   "outputs": [
    {
     "data": {
      "text/plain": [
       "4329"
      ]
     },
     "execution_count": 31,
     "metadata": {},
     "output_type": "execute_result"
    }
   ],
   "source": [
    "np.sum(Prices_predicted<0)"
   ]
  },
  {
   "cell_type": "code",
   "execution_count": null,
   "id": "75858865",
   "metadata": {
    "colab": {
     "base_uri": "https://localhost:8080/"
    },
    "id": "75858865",
    "outputId": "363c4b85-e53a-4dc3-e794-b96bbb33ae2d"
   },
   "outputs": [
    {
     "name": "stdout",
     "output_type": "stream",
     "text": [
      "Correct Predictions: 4164 out of 5000\n",
      "83.28 %\n"
     ]
    }
   ],
   "source": [
    "same_pred = np.sum((Prices_predicted<0).numpy()*(Prices_test<0).numpy())+np.sum((Prices_predicted>=0).numpy()*(Prices_test>=0).numpy())\n",
    "print(\"Correct Predictions: {} out of {}\".format(same_pred,n_test))\n",
    "print(\"{} %\".format(round(100*same_pred/n_test,3)))"
   ]
  },
  {
   "cell_type": "code",
   "execution_count": null,
   "id": "100c7335",
   "metadata": {
    "colab": {
     "base_uri": "https://localhost:8080/"
    },
    "id": "100c7335",
    "outputId": "7efd74bd-f21a-4d52-8bf8-b0833d4d3df3"
   },
   "outputs": [
    {
     "name": "stderr",
     "output_type": "stream",
     "text": [
      "WARNING:tensorflow:Compiled the loaded model, but the compiled metrics have yet to be built. `model.compile_metrics` will be empty until you train or evaluate the model.\n"
     ]
    }
   ],
   "source": [
    "strat.model.save(\"model_strat_real.h5\")"
   ]
  }
 ],
 "metadata": {
  "accelerator": "GPU",
  "colab": {
   "provenance": []
  },
  "gpuClass": "standard",
  "kernelspec": {
   "display_name": "Python 3",
   "language": "python",
   "name": "python3"
  },
  "language_info": {
   "codemirror_mode": {
    "name": "ipython",
    "version": 3
   },
   "file_extension": ".py",
   "mimetype": "text/x-python",
   "name": "python",
   "nbconvert_exporter": "python",
   "pygments_lexer": "ipython3",
   "version": "3.8.8"
  }
 },
 "nbformat": 4,
 "nbformat_minor": 5
}
