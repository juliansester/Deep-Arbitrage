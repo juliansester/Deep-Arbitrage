{
 "cells": [
  {
   "cell_type": "markdown",
   "id": "fdc505bf",
   "metadata": {},
   "source": [
    "# Small script to download real option data from Yahoo Finance"
   ]
  },
  {
   "cell_type": "code",
   "execution_count": null,
   "id": "20edaec0",
   "metadata": {},
   "outputs": [],
   "source": [
    "import numpy as np\n",
    "import pandas as pd\n",
    "import yfinance as yf\n",
    "import random"
   ]
  },
  {
   "cell_type": "markdown",
   "id": "caf9fdea",
   "metadata": {},
   "source": [
    "Download Options for S&P 500 constituents"
   ]
  },
  {
   "cell_type": "code",
   "execution_count": null,
   "id": "deae0204",
   "metadata": {},
   "outputs": [],
   "source": [
    "# Get the list of all S&P 500 tickers\n",
    "sp500 = pd.read_html('https://en.wikipedia.org/wiki/List_of_S%26P_500_companies')[0]\n",
    "tickers = sp500.Symbol.tolist()\n"
   ]
  },
  {
   "cell_type": "markdown",
   "id": "b43352c5",
   "metadata": {},
   "source": [
    "Download Closing Prices of Stocks"
   ]
  },
  {
   "cell_type": "code",
   "execution_count": null,
   "id": "af921aa4",
   "metadata": {},
   "outputs": [],
   "source": [
    "stock_prices = yf.download(  # or pdr.get_data_yahoo(...\n",
    "        # tickers list or string as well\n",
    "        tickers = tickers,\n",
    "\n",
    "        # use \"period\" instead of start/end\n",
    "        # valid periods: 1d,5d,1mo,3mo,6mo,1y,2y,5y,10y,ytd,max\n",
    "        # (optional, default is '1mo')\n",
    "        period = \"1d\",\n",
    "\n",
    "        # fetch data by interval (including intraday if period < 60 days)\n",
    "        # valid intervals: 1m,2m,5m,15m,30m,60m,90m,1h,1d,5d,1wk,1mo,3mo\n",
    "        # (optional, default is '1d')\n",
    "        interval = \"1d\",\n",
    "\n",
    "        # group by ticker (to access via data['SPY'])\n",
    "        # (optional, default is 'column')\n",
    "        group_by = 'ticker',\n",
    "\n",
    "        # adjust all OHLC automatically\n",
    "        # (optional, default is False)\n",
    "        auto_adjust = True,\n",
    "\n",
    "        # download pre/post regular market hours data\n",
    "        # (optional, default is False)\n",
    "        prepost = True,\n",
    "\n",
    "        # use threads for mass downloading? (True/False/Integer)\n",
    "        # (optional, default is True)\n",
    "        threads = True,\n",
    "\n",
    "        # proxy URL scheme use use when downloading?\n",
    "        # (optional, default is None)\n",
    "        proxy = None\n",
    "    )"
   ]
  },
  {
   "cell_type": "code",
   "execution_count": null,
   "id": "ff0aff61",
   "metadata": {},
   "outputs": [],
   "source": [
    "# Set the maturity date to one month from today\n",
    "maturity_date = \"2023-05-19\"\n",
    "\n",
    "list_of_prices = []\n",
    "\n",
    "# Loop through all tickers and download call option prices\n",
    "for ticker in tickers:\n",
    "    try:\n",
    "        option_chain = yf.Ticker(f\"{ticker}\").option_chain(maturity_date)\n",
    "        call_options = option_chain.calls\n",
    "        call_options = call_options.sort_values(by=\"volume\",ascending = False)[:10]\n",
    "        call_options = call_options.sort_values(by=\"strike\",ascending = True)\n",
    "        if len(call_options)==10:\n",
    "            price_S = stock_prices[ticker][\"Close\"][0]\n",
    "            list_of_prices.append(np.concatenate([[1],[1],\n",
    "                                                  call_options[\"strike\"]/price_S,\n",
    "                                                  call_options[\"bid\"]/price_S,\n",
    "                                                  call_options[\"ask\"]/price_S]))\n",
    "    except:\n",
    "        print(f\"No options data found for {ticker}\")"
   ]
  },
  {
   "cell_type": "markdown",
   "id": "7cec865f",
   "metadata": {},
   "source": [
    "Combine 5 stocks and create dataset for training"
   ]
  },
  {
   "cell_type": "code",
   "execution_count": null,
   "id": "c19ebbbf",
   "metadata": {},
   "outputs": [],
   "source": [
    "no_prices = len(list_of_prices)\n",
    "no_prices"
   ]
  },
  {
   "cell_type": "code",
   "execution_count": null,
   "id": "f274e2af",
   "metadata": {},
   "outputs": [],
   "source": [
    "df_list = []\n",
    "size_of_dataset = 50000\n",
    "for iter in range(size_of_dataset):\n",
    "    indices = []\n",
    "    while len(indices) < 5:\n",
    "        random_index = random.randint(0, no_prices-1)\n",
    "        if random_index not in indices:\n",
    "            indices.append(random_index)\n",
    "    df_list.append(np.concatenate([list_of_prices[i] for i in indices]))\n",
    "df = pd.DataFrame(df_list)\n",
    "df = df.fillna(0)"
   ]
  },
  {
   "cell_type": "markdown",
   "id": "bdd96508",
   "metadata": {},
   "source": [
    "Save it"
   ]
  },
  {
   "cell_type": "code",
   "execution_count": null,
   "id": "083d4471",
   "metadata": {},
   "outputs": [],
   "source": [
    "df"
   ]
  },
  {
   "cell_type": "code",
   "execution_count": null,
   "id": "a4b577f5",
   "metadata": {},
   "outputs": [],
   "source": [
    "df.to_csv(\"csv/real_data.csv\")"
   ]
  },
  {
   "cell_type": "markdown",
   "id": "72ec1462",
   "metadata": {},
   "source": [
    "Create the Test Data"
   ]
  },
  {
   "cell_type": "code",
   "execution_count": null,
   "id": "031b950a",
   "metadata": {},
   "outputs": [],
   "source": [
    "df_list_test = []\n",
    "size_of_dataset = 5000\n",
    "for iter in range(size_of_dataset):\n",
    "    indices = []\n",
    "    while len(indices) < 5:\n",
    "        random_index = random.randint(0, no_prices-1)\n",
    "        if random_index not in indices:\n",
    "            indices.append(random_index)\n",
    "    df_list_test.append(np.concatenate([list_of_prices[i] for i in indices]))\n",
    "df_test = pd.DataFrame(df_list_test)\n",
    "df_test = df_test.fillna(0)"
   ]
  },
  {
   "cell_type": "code",
   "execution_count": null,
   "id": "af57ea92",
   "metadata": {},
   "outputs": [],
   "source": [
    "df_test.to_csv(\"csv/real_data_test.csv\")"
   ]
  }
 ],
 "metadata": {
  "kernelspec": {
   "display_name": "Python 3",
   "language": "python",
   "name": "python3"
  },
  "language_info": {
   "codemirror_mode": {
    "name": "ipython",
    "version": 3
   },
   "file_extension": ".py",
   "mimetype": "text/x-python",
   "name": "python",
   "nbconvert_exporter": "python",
   "pygments_lexer": "ipython3",
   "version": "3.8.8"
  }
 },
 "nbformat": 4,
 "nbformat_minor": 5
}
